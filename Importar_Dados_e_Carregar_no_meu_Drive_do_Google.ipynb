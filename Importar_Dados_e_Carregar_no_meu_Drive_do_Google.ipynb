{
  "nbformat": 4,
  "nbformat_minor": 0,
  "metadata": {
    "colab": {
      "provenance": [],
      "mount_file_id": "1fR6eXFi4jF8N1HfuQXRcJEMhpD8Ahryr",
      "authorship_tag": "ABX9TyPEtqSfqAgLb/qJICBiltxq",
      "include_colab_link": true
    },
    "kernelspec": {
      "name": "python3",
      "display_name": "Python 3"
    },
    "language_info": {
      "name": "python"
    }
  },
  "cells": [
    {
      "cell_type": "markdown",
      "metadata": {
        "id": "view-in-github",
        "colab_type": "text"
      },
      "source": [
        "<a href=\"https://colab.research.google.com/github/FerrazThales/Curitiba156/blob/main/Importar_Dados_e_Carregar_no_meu_Drive_do_Google.ipynb\" target=\"_parent\"><img src=\"https://colab.research.google.com/assets/colab-badge.svg\" alt=\"Open In Colab\"/></a>"
      ]
    },
    {
      "cell_type": "code",
      "execution_count": null,
      "metadata": {
        "id": "YYAN86MOEf1g"
      },
      "outputs": [],
      "source": [
        "# bibliotecas necessárias\n",
        "import pandas as pd\n",
        "import warnings\n",
        "from google.cloud import bigquery\n",
        "from google.oauth2 import service_account\n",
        "\n",
        "# Ignorar todos os warnings\n",
        "warnings.filterwarnings(\"ignore\")\n",
        "\n",
        "# cabeçalhos\n",
        "novos_cabecalhos = [\"SOLICITACAO\", \"TIPO\", \"ORGAO\", \"DATA\", \"HORARIO\", \"ASSUNTO\", \"SUBDIVISAO\", \"DESCRICAO\",\n",
        "                    \"LOGRADOURO_ASS\", \"BAIRRO_ASS\", \"REGIONAL_ASS\", \"MEIO_RESPOSTA\", \"OBSERVACAO\", \"SEXO\",\n",
        "                    \"BAIRRO_CIDADAO\", \"REGIONAL_CIDADAO\", \"DATA_NASC\", \"TIPO_CIDADAO\", \"ORGAO_RESP\", \"RESPOSTA_FINAL\"]"
      ]
    },
    {
      "cell_type": "code",
      "source": [
        "# criando um df vazio\n",
        "df = pd.DataFrame(columns = novos_cabecalhos)\n",
        "\n",
        "# iterando ao longo dos anos\n",
        "for ano in range(2021,2025):\n",
        "  for mes in range(1,13):\n",
        "    mes = str(mes).zfill(2)\n",
        "    link = (f'https://dadosabertos.c3sl.ufpr.br/curitiba/156/{ano}-{mes}-01_156_-_Base_de_Dados.csv')\n",
        "    try:\n",
        "      df_append = pd.read_csv(link,\n",
        "                  encoding='latin1',\n",
        "                  on_bad_lines='skip',\n",
        "                  delimiter=';',\n",
        "                  skiprows=1,\n",
        "                  index_col=False)\n",
        "\n",
        "      print(f'Ano: {ano} | Mês: {mes}')\n",
        "      df_append.columns = novos_cabecalhos\n",
        "      df = pd.concat([df,df_append], ignore_index = True)\n",
        "    except:\n",
        "      pass"
      ],
      "metadata": {
        "colab": {
          "base_uri": "https://localhost:8080/"
        },
        "id": "l3-lp584Elso",
        "outputId": "440a8ed6-a08a-4fc7-9c44-4789526bfb51"
      },
      "execution_count": null,
      "outputs": [
        {
          "output_type": "stream",
          "name": "stdout",
          "text": [
            "Ano: 2021 | Mês: 01\n",
            "Ano: 2021 | Mês: 02\n",
            "Ano: 2021 | Mês: 03\n",
            "Ano: 2021 | Mês: 04\n",
            "Ano: 2021 | Mês: 05\n",
            "Ano: 2021 | Mês: 06\n",
            "Ano: 2021 | Mês: 07\n",
            "Ano: 2021 | Mês: 08\n",
            "Ano: 2021 | Mês: 09\n",
            "Ano: 2021 | Mês: 10\n",
            "Ano: 2021 | Mês: 11\n",
            "Ano: 2021 | Mês: 12\n",
            "Ano: 2022 | Mês: 01\n",
            "Ano: 2022 | Mês: 02\n",
            "Ano: 2022 | Mês: 03\n",
            "Ano: 2022 | Mês: 04\n",
            "Ano: 2022 | Mês: 05\n",
            "Ano: 2022 | Mês: 06\n",
            "Ano: 2022 | Mês: 07\n",
            "Ano: 2022 | Mês: 08\n",
            "Ano: 2022 | Mês: 09\n",
            "Ano: 2022 | Mês: 10\n",
            "Ano: 2022 | Mês: 11\n",
            "Ano: 2022 | Mês: 12\n",
            "Ano: 2023 | Mês: 01\n",
            "Ano: 2023 | Mês: 02\n",
            "Ano: 2023 | Mês: 03\n",
            "Ano: 2023 | Mês: 04\n",
            "Ano: 2023 | Mês: 05\n",
            "Ano: 2023 | Mês: 06\n",
            "Ano: 2023 | Mês: 07\n",
            "Ano: 2023 | Mês: 08\n",
            "Ano: 2023 | Mês: 09\n",
            "Ano: 2023 | Mês: 10\n",
            "Ano: 2023 | Mês: 11\n",
            "Ano: 2023 | Mês: 12\n",
            "Ano: 2024 | Mês: 01\n"
          ]
        }
      ]
    },
    {
      "cell_type": "code",
      "source": [
        "#exibindo os valores de entrada e saída da base de dados\n",
        "print('Esta base de dados possui:')\n",
        "print('{:,} entradas'.format(df.shape[0]).replace(',','.'))\n",
        "print('{} variáveis'.format(df.shape[1]))"
      ],
      "metadata": {
        "colab": {
          "base_uri": "https://localhost:8080/"
        },
        "id": "VKYgtj_XJNK-",
        "outputId": "6798d60d-c138-41dd-a97a-bf9968f2e965"
      },
      "execution_count": null,
      "outputs": [
        {
          "output_type": "stream",
          "name": "stdout",
          "text": [
            "Esta base de dados possui:\n",
            "1.121.303 entradas\n",
            "20 variáveis\n"
          ]
        }
      ]
    },
    {
      "cell_type": "code",
      "source": [
        "# visualizando os 5 primeiros dados\n",
        "df.head()"
      ],
      "metadata": {
        "colab": {
          "base_uri": "https://localhost:8080/",
          "height": 556
        },
        "id": "KjcAanwpE2i7",
        "outputId": "0fb8e3bd-59d6-45e3-be1a-d0262ce3bfef"
      },
      "execution_count": null,
      "outputs": [
        {
          "output_type": "execute_result",
          "data": {
            "text/plain": [
              "  SOLICITACAO         TIPO                               ORGAO  \\\n",
              "0     8683793     DENÚNCIA             FUNDAÇÃO DE AÇÃO SOCIAL   \n",
              "1     8683985     DENÚNCIA             FUNDAÇÃO DE AÇÃO SOCIAL   \n",
              "2     8684025  SOLICITAÇÃO  INSTITUTO DAS CIDADES INTELIGENTES   \n",
              "3     8684317     DENÚNCIA             FUNDAÇÃO DE AÇÃO SOCIAL   \n",
              "4     8684808  SOLICITAÇÃO  INSTITUTO DAS CIDADES INTELIGENTES   \n",
              "\n",
              "                             DATA                         HORARIO  \\\n",
              "0  01/12/2020                      08:56:22                         \n",
              "1  01/12/2020                      10:11:24                         \n",
              "2  01/12/2020                      10:25:31                         \n",
              "3  01/12/2020                      11:59:29                         \n",
              "4  01/12/2020                      15:05:08                         \n",
              "\n",
              "                                     ASSUNTO             SUBDIVISAO  \\\n",
              "0  ATENDIMENTO SOCIAL EM DOMICÍLIO - CRIANÇA            NEGLIGÊNCIA   \n",
              "1    ATENDIMENTO SOCIAL EM DOMICÍLIO - IDOSO            NEGLIGÊNCIA   \n",
              "2                    ABORDAGEM SOCIAL DE RUA   PERDIDA/DESORIENTADA   \n",
              "3  ATENDIMENTO SOCIAL EM DOMICÍLIO - CRIANÇA            NEGLIGÊNCIA   \n",
              "4                    ABORDAGEM SOCIAL DE RUA  ALCOOLIZADAS/DROGADAS   \n",
              "\n",
              "                                           DESCRICAO  \\\n",
              "0                                           Sigiloso   \n",
              "1                                           Sigiloso   \n",
              "2  Solicita abordagem para si mesmo. Fabiano, Cam...   \n",
              "3                                           Sigiloso   \n",
              "4  Solicita abordagem social para um rapaz que es...   \n",
              "\n",
              "                 LOGRADOURO_ASS        BAIRRO_ASS  \\\n",
              "0                      Sigiloso        NOVO MUNDO   \n",
              "1                      Sigiloso         BOA VISTA   \n",
              "2     República Argentina, 4822        NOVO MUNDO   \n",
              "3                      Sigiloso  CAMPO DE SANTANA   \n",
              "4  DOUTOR ROBERTO BARROZO, 1492     SAO FRANCISCO   \n",
              "\n",
              "                   REGIONAL_ASS MEIO_RESPOSTA  \\\n",
              "0  Unidade Regional Pinheirinho        NENHUM   \n",
              "1    Unidade Regional Boa Vista        NENHUM   \n",
              "2  Unidade Regional Pinheirinho        NENHUM   \n",
              "3    Unidade Regional Tatuquara        NENHUM   \n",
              "4       Unidade Regional Matriz        NENHUM   \n",
              "\n",
              "                                          OBSERVACAO SEXO BAIRRO_CIDADAO  \\\n",
              "0                                                NaN    M            NaN   \n",
              "1                                                NaN    M            NaN   \n",
              "2                                                NaN    M            NaN   \n",
              "3                                                NaN    M            NaN   \n",
              "4  Rapaz usando blusa e camiseta e enrolado no co...    M            NaN   \n",
              "\n",
              "  REGIONAL_CIDADAO                       DATA_NASC TIPO_CIDADAO  \\\n",
              "0              NaN                                      CIDADÃO   \n",
              "1              NaN                                      CIDADÃO   \n",
              "2              NaN                                      CIDADÃO   \n",
              "3              NaN                                      CIDADÃO   \n",
              "4              NaN                                      CIDADÃO   \n",
              "\n",
              "                ORGAO_RESP                         RESPOSTA_FINAL  \n",
              "0  FUNDAÇÃO DE AÇÃO SOCIAL                              Impressão  \n",
              "1  FUNDAÇÃO DE AÇÃO SOCIAL                              Impressão  \n",
              "2  FUNDAÇÃO DE AÇÃO SOCIAL           Responder para o solicitante  \n",
              "3  FUNDAÇÃO DE AÇÃO SOCIAL  Conclusão - Meio de resposta \"Nenhum\"  \n",
              "4  FUNDAÇÃO DE AÇÃO SOCIAL           Responder para o solicitante  "
            ],
            "text/html": [
              "\n",
              "  <div id=\"df-2ae87e88-4678-4af0-a8a0-4d944846eef1\" class=\"colab-df-container\">\n",
              "    <div>\n",
              "<style scoped>\n",
              "    .dataframe tbody tr th:only-of-type {\n",
              "        vertical-align: middle;\n",
              "    }\n",
              "\n",
              "    .dataframe tbody tr th {\n",
              "        vertical-align: top;\n",
              "    }\n",
              "\n",
              "    .dataframe thead th {\n",
              "        text-align: right;\n",
              "    }\n",
              "</style>\n",
              "<table border=\"1\" class=\"dataframe\">\n",
              "  <thead>\n",
              "    <tr style=\"text-align: right;\">\n",
              "      <th></th>\n",
              "      <th>SOLICITACAO</th>\n",
              "      <th>TIPO</th>\n",
              "      <th>ORGAO</th>\n",
              "      <th>DATA</th>\n",
              "      <th>HORARIO</th>\n",
              "      <th>ASSUNTO</th>\n",
              "      <th>SUBDIVISAO</th>\n",
              "      <th>DESCRICAO</th>\n",
              "      <th>LOGRADOURO_ASS</th>\n",
              "      <th>BAIRRO_ASS</th>\n",
              "      <th>REGIONAL_ASS</th>\n",
              "      <th>MEIO_RESPOSTA</th>\n",
              "      <th>OBSERVACAO</th>\n",
              "      <th>SEXO</th>\n",
              "      <th>BAIRRO_CIDADAO</th>\n",
              "      <th>REGIONAL_CIDADAO</th>\n",
              "      <th>DATA_NASC</th>\n",
              "      <th>TIPO_CIDADAO</th>\n",
              "      <th>ORGAO_RESP</th>\n",
              "      <th>RESPOSTA_FINAL</th>\n",
              "    </tr>\n",
              "  </thead>\n",
              "  <tbody>\n",
              "    <tr>\n",
              "      <th>0</th>\n",
              "      <td>8683793</td>\n",
              "      <td>DENÚNCIA</td>\n",
              "      <td>FUNDAÇÃO DE AÇÃO SOCIAL</td>\n",
              "      <td>01/12/2020</td>\n",
              "      <td>08:56:22</td>\n",
              "      <td>ATENDIMENTO SOCIAL EM DOMICÍLIO - CRIANÇA</td>\n",
              "      <td>NEGLIGÊNCIA</td>\n",
              "      <td>Sigiloso</td>\n",
              "      <td>Sigiloso</td>\n",
              "      <td>NOVO MUNDO</td>\n",
              "      <td>Unidade Regional Pinheirinho</td>\n",
              "      <td>NENHUM</td>\n",
              "      <td>NaN</td>\n",
              "      <td>M</td>\n",
              "      <td>NaN</td>\n",
              "      <td>NaN</td>\n",
              "      <td></td>\n",
              "      <td>CIDADÃO</td>\n",
              "      <td>FUNDAÇÃO DE AÇÃO SOCIAL</td>\n",
              "      <td>Impressão</td>\n",
              "    </tr>\n",
              "    <tr>\n",
              "      <th>1</th>\n",
              "      <td>8683985</td>\n",
              "      <td>DENÚNCIA</td>\n",
              "      <td>FUNDAÇÃO DE AÇÃO SOCIAL</td>\n",
              "      <td>01/12/2020</td>\n",
              "      <td>10:11:24</td>\n",
              "      <td>ATENDIMENTO SOCIAL EM DOMICÍLIO - IDOSO</td>\n",
              "      <td>NEGLIGÊNCIA</td>\n",
              "      <td>Sigiloso</td>\n",
              "      <td>Sigiloso</td>\n",
              "      <td>BOA VISTA</td>\n",
              "      <td>Unidade Regional Boa Vista</td>\n",
              "      <td>NENHUM</td>\n",
              "      <td>NaN</td>\n",
              "      <td>M</td>\n",
              "      <td>NaN</td>\n",
              "      <td>NaN</td>\n",
              "      <td></td>\n",
              "      <td>CIDADÃO</td>\n",
              "      <td>FUNDAÇÃO DE AÇÃO SOCIAL</td>\n",
              "      <td>Impressão</td>\n",
              "    </tr>\n",
              "    <tr>\n",
              "      <th>2</th>\n",
              "      <td>8684025</td>\n",
              "      <td>SOLICITAÇÃO</td>\n",
              "      <td>INSTITUTO DAS CIDADES INTELIGENTES</td>\n",
              "      <td>01/12/2020</td>\n",
              "      <td>10:25:31</td>\n",
              "      <td>ABORDAGEM SOCIAL DE RUA</td>\n",
              "      <td>PERDIDA/DESORIENTADA</td>\n",
              "      <td>Solicita abordagem para si mesmo. Fabiano, Cam...</td>\n",
              "      <td>República Argentina, 4822</td>\n",
              "      <td>NOVO MUNDO</td>\n",
              "      <td>Unidade Regional Pinheirinho</td>\n",
              "      <td>NENHUM</td>\n",
              "      <td>NaN</td>\n",
              "      <td>M</td>\n",
              "      <td>NaN</td>\n",
              "      <td>NaN</td>\n",
              "      <td></td>\n",
              "      <td>CIDADÃO</td>\n",
              "      <td>FUNDAÇÃO DE AÇÃO SOCIAL</td>\n",
              "      <td>Responder para o solicitante</td>\n",
              "    </tr>\n",
              "    <tr>\n",
              "      <th>3</th>\n",
              "      <td>8684317</td>\n",
              "      <td>DENÚNCIA</td>\n",
              "      <td>FUNDAÇÃO DE AÇÃO SOCIAL</td>\n",
              "      <td>01/12/2020</td>\n",
              "      <td>11:59:29</td>\n",
              "      <td>ATENDIMENTO SOCIAL EM DOMICÍLIO - CRIANÇA</td>\n",
              "      <td>NEGLIGÊNCIA</td>\n",
              "      <td>Sigiloso</td>\n",
              "      <td>Sigiloso</td>\n",
              "      <td>CAMPO DE SANTANA</td>\n",
              "      <td>Unidade Regional Tatuquara</td>\n",
              "      <td>NENHUM</td>\n",
              "      <td>NaN</td>\n",
              "      <td>M</td>\n",
              "      <td>NaN</td>\n",
              "      <td>NaN</td>\n",
              "      <td></td>\n",
              "      <td>CIDADÃO</td>\n",
              "      <td>FUNDAÇÃO DE AÇÃO SOCIAL</td>\n",
              "      <td>Conclusão - Meio de resposta \"Nenhum\"</td>\n",
              "    </tr>\n",
              "    <tr>\n",
              "      <th>4</th>\n",
              "      <td>8684808</td>\n",
              "      <td>SOLICITAÇÃO</td>\n",
              "      <td>INSTITUTO DAS CIDADES INTELIGENTES</td>\n",
              "      <td>01/12/2020</td>\n",
              "      <td>15:05:08</td>\n",
              "      <td>ABORDAGEM SOCIAL DE RUA</td>\n",
              "      <td>ALCOOLIZADAS/DROGADAS</td>\n",
              "      <td>Solicita abordagem social para um rapaz que es...</td>\n",
              "      <td>DOUTOR ROBERTO BARROZO, 1492</td>\n",
              "      <td>SAO FRANCISCO</td>\n",
              "      <td>Unidade Regional Matriz</td>\n",
              "      <td>NENHUM</td>\n",
              "      <td>Rapaz usando blusa e camiseta e enrolado no co...</td>\n",
              "      <td>M</td>\n",
              "      <td>NaN</td>\n",
              "      <td>NaN</td>\n",
              "      <td></td>\n",
              "      <td>CIDADÃO</td>\n",
              "      <td>FUNDAÇÃO DE AÇÃO SOCIAL</td>\n",
              "      <td>Responder para o solicitante</td>\n",
              "    </tr>\n",
              "  </tbody>\n",
              "</table>\n",
              "</div>\n",
              "    <div class=\"colab-df-buttons\">\n",
              "\n",
              "  <div class=\"colab-df-container\">\n",
              "    <button class=\"colab-df-convert\" onclick=\"convertToInteractive('df-2ae87e88-4678-4af0-a8a0-4d944846eef1')\"\n",
              "            title=\"Convert this dataframe to an interactive table.\"\n",
              "            style=\"display:none;\">\n",
              "\n",
              "  <svg xmlns=\"http://www.w3.org/2000/svg\" height=\"24px\" viewBox=\"0 -960 960 960\">\n",
              "    <path d=\"M120-120v-720h720v720H120Zm60-500h600v-160H180v160Zm220 220h160v-160H400v160Zm0 220h160v-160H400v160ZM180-400h160v-160H180v160Zm440 0h160v-160H620v160ZM180-180h160v-160H180v160Zm440 0h160v-160H620v160Z\"/>\n",
              "  </svg>\n",
              "    </button>\n",
              "\n",
              "  <style>\n",
              "    .colab-df-container {\n",
              "      display:flex;\n",
              "      gap: 12px;\n",
              "    }\n",
              "\n",
              "    .colab-df-convert {\n",
              "      background-color: #E8F0FE;\n",
              "      border: none;\n",
              "      border-radius: 50%;\n",
              "      cursor: pointer;\n",
              "      display: none;\n",
              "      fill: #1967D2;\n",
              "      height: 32px;\n",
              "      padding: 0 0 0 0;\n",
              "      width: 32px;\n",
              "    }\n",
              "\n",
              "    .colab-df-convert:hover {\n",
              "      background-color: #E2EBFA;\n",
              "      box-shadow: 0px 1px 2px rgba(60, 64, 67, 0.3), 0px 1px 3px 1px rgba(60, 64, 67, 0.15);\n",
              "      fill: #174EA6;\n",
              "    }\n",
              "\n",
              "    .colab-df-buttons div {\n",
              "      margin-bottom: 4px;\n",
              "    }\n",
              "\n",
              "    [theme=dark] .colab-df-convert {\n",
              "      background-color: #3B4455;\n",
              "      fill: #D2E3FC;\n",
              "    }\n",
              "\n",
              "    [theme=dark] .colab-df-convert:hover {\n",
              "      background-color: #434B5C;\n",
              "      box-shadow: 0px 1px 3px 1px rgba(0, 0, 0, 0.15);\n",
              "      filter: drop-shadow(0px 1px 2px rgba(0, 0, 0, 0.3));\n",
              "      fill: #FFFFFF;\n",
              "    }\n",
              "  </style>\n",
              "\n",
              "    <script>\n",
              "      const buttonEl =\n",
              "        document.querySelector('#df-2ae87e88-4678-4af0-a8a0-4d944846eef1 button.colab-df-convert');\n",
              "      buttonEl.style.display =\n",
              "        google.colab.kernel.accessAllowed ? 'block' : 'none';\n",
              "\n",
              "      async function convertToInteractive(key) {\n",
              "        const element = document.querySelector('#df-2ae87e88-4678-4af0-a8a0-4d944846eef1');\n",
              "        const dataTable =\n",
              "          await google.colab.kernel.invokeFunction('convertToInteractive',\n",
              "                                                    [key], {});\n",
              "        if (!dataTable) return;\n",
              "\n",
              "        const docLinkHtml = 'Like what you see? Visit the ' +\n",
              "          '<a target=\"_blank\" href=https://colab.research.google.com/notebooks/data_table.ipynb>data table notebook</a>'\n",
              "          + ' to learn more about interactive tables.';\n",
              "        element.innerHTML = '';\n",
              "        dataTable['output_type'] = 'display_data';\n",
              "        await google.colab.output.renderOutput(dataTable, element);\n",
              "        const docLink = document.createElement('div');\n",
              "        docLink.innerHTML = docLinkHtml;\n",
              "        element.appendChild(docLink);\n",
              "      }\n",
              "    </script>\n",
              "  </div>\n",
              "\n",
              "\n",
              "<div id=\"df-e2bccfe3-140a-4447-ac47-3b3a1ea88760\">\n",
              "  <button class=\"colab-df-quickchart\" onclick=\"quickchart('df-e2bccfe3-140a-4447-ac47-3b3a1ea88760')\"\n",
              "            title=\"Suggest charts\"\n",
              "            style=\"display:none;\">\n",
              "\n",
              "<svg xmlns=\"http://www.w3.org/2000/svg\" height=\"24px\"viewBox=\"0 0 24 24\"\n",
              "     width=\"24px\">\n",
              "    <g>\n",
              "        <path d=\"M19 3H5c-1.1 0-2 .9-2 2v14c0 1.1.9 2 2 2h14c1.1 0 2-.9 2-2V5c0-1.1-.9-2-2-2zM9 17H7v-7h2v7zm4 0h-2V7h2v10zm4 0h-2v-4h2v4z\"/>\n",
              "    </g>\n",
              "</svg>\n",
              "  </button>\n",
              "\n",
              "<style>\n",
              "  .colab-df-quickchart {\n",
              "      --bg-color: #E8F0FE;\n",
              "      --fill-color: #1967D2;\n",
              "      --hover-bg-color: #E2EBFA;\n",
              "      --hover-fill-color: #174EA6;\n",
              "      --disabled-fill-color: #AAA;\n",
              "      --disabled-bg-color: #DDD;\n",
              "  }\n",
              "\n",
              "  [theme=dark] .colab-df-quickchart {\n",
              "      --bg-color: #3B4455;\n",
              "      --fill-color: #D2E3FC;\n",
              "      --hover-bg-color: #434B5C;\n",
              "      --hover-fill-color: #FFFFFF;\n",
              "      --disabled-bg-color: #3B4455;\n",
              "      --disabled-fill-color: #666;\n",
              "  }\n",
              "\n",
              "  .colab-df-quickchart {\n",
              "    background-color: var(--bg-color);\n",
              "    border: none;\n",
              "    border-radius: 50%;\n",
              "    cursor: pointer;\n",
              "    display: none;\n",
              "    fill: var(--fill-color);\n",
              "    height: 32px;\n",
              "    padding: 0;\n",
              "    width: 32px;\n",
              "  }\n",
              "\n",
              "  .colab-df-quickchart:hover {\n",
              "    background-color: var(--hover-bg-color);\n",
              "    box-shadow: 0 1px 2px rgba(60, 64, 67, 0.3), 0 1px 3px 1px rgba(60, 64, 67, 0.15);\n",
              "    fill: var(--button-hover-fill-color);\n",
              "  }\n",
              "\n",
              "  .colab-df-quickchart-complete:disabled,\n",
              "  .colab-df-quickchart-complete:disabled:hover {\n",
              "    background-color: var(--disabled-bg-color);\n",
              "    fill: var(--disabled-fill-color);\n",
              "    box-shadow: none;\n",
              "  }\n",
              "\n",
              "  .colab-df-spinner {\n",
              "    border: 2px solid var(--fill-color);\n",
              "    border-color: transparent;\n",
              "    border-bottom-color: var(--fill-color);\n",
              "    animation:\n",
              "      spin 1s steps(1) infinite;\n",
              "  }\n",
              "\n",
              "  @keyframes spin {\n",
              "    0% {\n",
              "      border-color: transparent;\n",
              "      border-bottom-color: var(--fill-color);\n",
              "      border-left-color: var(--fill-color);\n",
              "    }\n",
              "    20% {\n",
              "      border-color: transparent;\n",
              "      border-left-color: var(--fill-color);\n",
              "      border-top-color: var(--fill-color);\n",
              "    }\n",
              "    30% {\n",
              "      border-color: transparent;\n",
              "      border-left-color: var(--fill-color);\n",
              "      border-top-color: var(--fill-color);\n",
              "      border-right-color: var(--fill-color);\n",
              "    }\n",
              "    40% {\n",
              "      border-color: transparent;\n",
              "      border-right-color: var(--fill-color);\n",
              "      border-top-color: var(--fill-color);\n",
              "    }\n",
              "    60% {\n",
              "      border-color: transparent;\n",
              "      border-right-color: var(--fill-color);\n",
              "    }\n",
              "    80% {\n",
              "      border-color: transparent;\n",
              "      border-right-color: var(--fill-color);\n",
              "      border-bottom-color: var(--fill-color);\n",
              "    }\n",
              "    90% {\n",
              "      border-color: transparent;\n",
              "      border-bottom-color: var(--fill-color);\n",
              "    }\n",
              "  }\n",
              "</style>\n",
              "\n",
              "  <script>\n",
              "    async function quickchart(key) {\n",
              "      const quickchartButtonEl =\n",
              "        document.querySelector('#' + key + ' button');\n",
              "      quickchartButtonEl.disabled = true;  // To prevent multiple clicks.\n",
              "      quickchartButtonEl.classList.add('colab-df-spinner');\n",
              "      try {\n",
              "        const charts = await google.colab.kernel.invokeFunction(\n",
              "            'suggestCharts', [key], {});\n",
              "      } catch (error) {\n",
              "        console.error('Error during call to suggestCharts:', error);\n",
              "      }\n",
              "      quickchartButtonEl.classList.remove('colab-df-spinner');\n",
              "      quickchartButtonEl.classList.add('colab-df-quickchart-complete');\n",
              "    }\n",
              "    (() => {\n",
              "      let quickchartButtonEl =\n",
              "        document.querySelector('#df-e2bccfe3-140a-4447-ac47-3b3a1ea88760 button');\n",
              "      quickchartButtonEl.style.display =\n",
              "        google.colab.kernel.accessAllowed ? 'block' : 'none';\n",
              "    })();\n",
              "  </script>\n",
              "</div>\n",
              "\n",
              "    </div>\n",
              "  </div>\n"
            ]
          },
          "metadata": {},
          "execution_count": 4
        }
      ]
    },
    {
      "cell_type": "markdown",
      "source": [
        "# Tratamento dos Dados"
      ],
      "metadata": {
        "id": "wrICnKjNFdbd"
      }
    },
    {
      "cell_type": "code",
      "source": [
        "# verificar tipo dos dados\n",
        "df.dtypes"
      ],
      "metadata": {
        "colab": {
          "base_uri": "https://localhost:8080/"
        },
        "id": "WPZxOlp9RDtV",
        "outputId": "ac788e34-9ecf-483a-9656-fafb77693171"
      },
      "execution_count": null,
      "outputs": [
        {
          "output_type": "execute_result",
          "data": {
            "text/plain": [
              "SOLICITACAO         object\n",
              "TIPO                object\n",
              "ORGAO               object\n",
              "DATA                object\n",
              "HORARIO             object\n",
              "ASSUNTO             object\n",
              "SUBDIVISAO          object\n",
              "DESCRICAO           object\n",
              "LOGRADOURO_ASS      object\n",
              "BAIRRO_ASS          object\n",
              "REGIONAL_ASS        object\n",
              "MEIO_RESPOSTA       object\n",
              "OBSERVACAO          object\n",
              "SEXO                object\n",
              "BAIRRO_CIDADAO      object\n",
              "REGIONAL_CIDADAO    object\n",
              "DATA_NASC           object\n",
              "TIPO_CIDADAO        object\n",
              "ORGAO_RESP          object\n",
              "RESPOSTA_FINAL      object\n",
              "dtype: object"
            ]
          },
          "metadata": {},
          "execution_count": 5
        }
      ]
    },
    {
      "cell_type": "code",
      "source": [
        "# transformando a solicitacao em número\n",
        "df.SOLICITACAO = pd.to_numeric(df.SOLICITACAO, errors='coerce')\n",
        "# transformando a coluna DATA em datetime\n",
        "df.DATA = pd.to_datetime(df.DATA)"
      ],
      "metadata": {
        "id": "cekTDXgRRDvW"
      },
      "execution_count": null,
      "outputs": []
    },
    {
      "cell_type": "code",
      "source": [
        "# tratamento dos dados\n",
        "(df.isnull().sum() / df.shape[0]).sort_values(ascending=False)"
      ],
      "metadata": {
        "id": "c17JNsgEJbXw",
        "colab": {
          "base_uri": "https://localhost:8080/"
        },
        "outputId": "f267faaf-64da-44bc-de26-84a751dec0ed"
      },
      "execution_count": null,
      "outputs": [
        {
          "output_type": "execute_result",
          "data": {
            "text/plain": [
              "OBSERVACAO          0.790815\n",
              "ORGAO               0.312865\n",
              "REGIONAL_CIDADAO    0.287160\n",
              "SEXO                0.017538\n",
              "BAIRRO_CIDADAO      0.016396\n",
              "REGIONAL_ASS        0.004992\n",
              "BAIRRO_ASS          0.004400\n",
              "DESCRICAO           0.002255\n",
              "ORGAO_RESP          0.002187\n",
              "TIPO_CIDADAO        0.002187\n",
              "DATA_NASC           0.002187\n",
              "SOLICITACAO         0.002187\n",
              "MEIO_RESPOSTA       0.002187\n",
              "LOGRADOURO_ASS      0.002187\n",
              "SUBDIVISAO          0.002187\n",
              "ASSUNTO             0.002187\n",
              "HORARIO             0.002187\n",
              "DATA                0.002187\n",
              "RESPOSTA_FINAL      0.002187\n",
              "TIPO                0.000017\n",
              "dtype: float64"
            ]
          },
          "metadata": {},
          "execution_count": 8
        }
      ]
    },
    {
      "cell_type": "code",
      "source": [
        "# removendo as colunas que contém muitos valores vazios\n",
        "df.drop(['OBSERVACAO','ORGAO','REGIONAL_CIDADAO'],axis=1,inplace=True)"
      ],
      "metadata": {
        "id": "uRj71iHkAsTe"
      },
      "execution_count": null,
      "outputs": []
    },
    {
      "cell_type": "code",
      "source": [
        "# checando valores únicos em cada coluna\n",
        "df.nunique().sort_values(ascending=False)"
      ],
      "metadata": {
        "colab": {
          "base_uri": "https://localhost:8080/"
        },
        "id": "EkwZg-oDI7rf",
        "outputId": "2c617c8d-8c96-4117-f5fa-5c9f8fcc8e8f"
      },
      "execution_count": null,
      "outputs": [
        {
          "output_type": "execute_result",
          "data": {
            "text/plain": [
              "SOLICITACAO       1064821\n",
              "DESCRICAO          507193\n",
              "LOGRADOURO_ASS     451815\n",
              "HORARIO             79981\n",
              "DATA_NASC           26342\n",
              "BAIRRO_CIDADAO       2820\n",
              "SUBDIVISAO           1663\n",
              "DATA                 1127\n",
              "ASSUNTO               530\n",
              "TIPO                  168\n",
              "BAIRRO_ASS             75\n",
              "RESPOSTA_FINAL         45\n",
              "ORGAO_RESP             26\n",
              "REGIONAL_ASS           10\n",
              "MEIO_RESPOSTA           4\n",
              "SEXO                    3\n",
              "TIPO_CIDADAO            1\n",
              "dtype: int64"
            ]
          },
          "metadata": {},
          "execution_count": 10
        }
      ]
    },
    {
      "cell_type": "code",
      "source": [
        "# removendo as colunas que contém valores únicos e que não tem muito sentido\n",
        "df.drop(['TIPO_CIDADAO','MEIO_RESPOSTA','RESPOSTA_FINAL'],axis=1,inplace=True)"
      ],
      "metadata": {
        "id": "_NkoKN3mI7t1"
      },
      "execution_count": null,
      "outputs": []
    },
    {
      "cell_type": "code",
      "source": [
        "# checando se há id's de solicitação duplicados\n",
        "df.SOLICITACAO.value_counts()"
      ],
      "metadata": {
        "colab": {
          "base_uri": "https://localhost:8080/"
        },
        "id": "KO7L5zwUI7wL",
        "outputId": "b32f0f63-5309-4623-c99a-e65d6f4fc010"
      },
      "execution_count": null,
      "outputs": [
        {
          "output_type": "execute_result",
          "data": {
            "text/plain": [
              "9733705.0     11\n",
              "8998448.0     10\n",
              "9104084.0      9\n",
              "10418507.0     9\n",
              "9919466.0      8\n",
              "              ..\n",
              "9333464.0      1\n",
              "9333466.0      1\n",
              "9333468.0      1\n",
              "9333388.0      1\n",
              "10517554.0     1\n",
              "Name: SOLICITACAO, Length: 1064821, dtype: int64"
            ]
          },
          "metadata": {},
          "execution_count": 12
        }
      ]
    },
    {
      "cell_type": "code",
      "source": [
        "# removendo os que tem o mesmo id de solicitação\n",
        "df.drop_duplicates(subset='SOLICITACAO',inplace=True)"
      ],
      "metadata": {
        "id": "Y9TxlcXZI73M"
      },
      "execution_count": null,
      "outputs": []
    },
    {
      "cell_type": "code",
      "source": [
        "# chegando se há dados duplicados\n",
        "df[df.duplicated()]"
      ],
      "metadata": {
        "colab": {
          "base_uri": "https://localhost:8080/",
          "height": 53
        },
        "id": "xGSeUXY9G1Oh",
        "outputId": "3f9a3c3b-2310-48f7-9f9a-84ae489be655"
      },
      "execution_count": null,
      "outputs": [
        {
          "output_type": "execute_result",
          "data": {
            "text/plain": [
              "Empty DataFrame\n",
              "Columns: [SOLICITACAO, TIPO, DATA, HORARIO, ASSUNTO, SUBDIVISAO, DESCRICAO, LOGRADOURO_ASS, BAIRRO_ASS, REGIONAL_ASS, SEXO, BAIRRO_CIDADAO, DATA_NASC, ORGAO_RESP]\n",
              "Index: []"
            ],
            "text/html": [
              "\n",
              "  <div id=\"df-51586900-05dc-46b2-b23d-c8aea8779ddf\" class=\"colab-df-container\">\n",
              "    <div>\n",
              "<style scoped>\n",
              "    .dataframe tbody tr th:only-of-type {\n",
              "        vertical-align: middle;\n",
              "    }\n",
              "\n",
              "    .dataframe tbody tr th {\n",
              "        vertical-align: top;\n",
              "    }\n",
              "\n",
              "    .dataframe thead th {\n",
              "        text-align: right;\n",
              "    }\n",
              "</style>\n",
              "<table border=\"1\" class=\"dataframe\">\n",
              "  <thead>\n",
              "    <tr style=\"text-align: right;\">\n",
              "      <th></th>\n",
              "      <th>SOLICITACAO</th>\n",
              "      <th>TIPO</th>\n",
              "      <th>DATA</th>\n",
              "      <th>HORARIO</th>\n",
              "      <th>ASSUNTO</th>\n",
              "      <th>SUBDIVISAO</th>\n",
              "      <th>DESCRICAO</th>\n",
              "      <th>LOGRADOURO_ASS</th>\n",
              "      <th>BAIRRO_ASS</th>\n",
              "      <th>REGIONAL_ASS</th>\n",
              "      <th>SEXO</th>\n",
              "      <th>BAIRRO_CIDADAO</th>\n",
              "      <th>DATA_NASC</th>\n",
              "      <th>ORGAO_RESP</th>\n",
              "    </tr>\n",
              "  </thead>\n",
              "  <tbody>\n",
              "  </tbody>\n",
              "</table>\n",
              "</div>\n",
              "    <div class=\"colab-df-buttons\">\n",
              "\n",
              "  <div class=\"colab-df-container\">\n",
              "    <button class=\"colab-df-convert\" onclick=\"convertToInteractive('df-51586900-05dc-46b2-b23d-c8aea8779ddf')\"\n",
              "            title=\"Convert this dataframe to an interactive table.\"\n",
              "            style=\"display:none;\">\n",
              "\n",
              "  <svg xmlns=\"http://www.w3.org/2000/svg\" height=\"24px\" viewBox=\"0 -960 960 960\">\n",
              "    <path d=\"M120-120v-720h720v720H120Zm60-500h600v-160H180v160Zm220 220h160v-160H400v160Zm0 220h160v-160H400v160ZM180-400h160v-160H180v160Zm440 0h160v-160H620v160ZM180-180h160v-160H180v160Zm440 0h160v-160H620v160Z\"/>\n",
              "  </svg>\n",
              "    </button>\n",
              "\n",
              "  <style>\n",
              "    .colab-df-container {\n",
              "      display:flex;\n",
              "      gap: 12px;\n",
              "    }\n",
              "\n",
              "    .colab-df-convert {\n",
              "      background-color: #E8F0FE;\n",
              "      border: none;\n",
              "      border-radius: 50%;\n",
              "      cursor: pointer;\n",
              "      display: none;\n",
              "      fill: #1967D2;\n",
              "      height: 32px;\n",
              "      padding: 0 0 0 0;\n",
              "      width: 32px;\n",
              "    }\n",
              "\n",
              "    .colab-df-convert:hover {\n",
              "      background-color: #E2EBFA;\n",
              "      box-shadow: 0px 1px 2px rgba(60, 64, 67, 0.3), 0px 1px 3px 1px rgba(60, 64, 67, 0.15);\n",
              "      fill: #174EA6;\n",
              "    }\n",
              "\n",
              "    .colab-df-buttons div {\n",
              "      margin-bottom: 4px;\n",
              "    }\n",
              "\n",
              "    [theme=dark] .colab-df-convert {\n",
              "      background-color: #3B4455;\n",
              "      fill: #D2E3FC;\n",
              "    }\n",
              "\n",
              "    [theme=dark] .colab-df-convert:hover {\n",
              "      background-color: #434B5C;\n",
              "      box-shadow: 0px 1px 3px 1px rgba(0, 0, 0, 0.15);\n",
              "      filter: drop-shadow(0px 1px 2px rgba(0, 0, 0, 0.3));\n",
              "      fill: #FFFFFF;\n",
              "    }\n",
              "  </style>\n",
              "\n",
              "    <script>\n",
              "      const buttonEl =\n",
              "        document.querySelector('#df-51586900-05dc-46b2-b23d-c8aea8779ddf button.colab-df-convert');\n",
              "      buttonEl.style.display =\n",
              "        google.colab.kernel.accessAllowed ? 'block' : 'none';\n",
              "\n",
              "      async function convertToInteractive(key) {\n",
              "        const element = document.querySelector('#df-51586900-05dc-46b2-b23d-c8aea8779ddf');\n",
              "        const dataTable =\n",
              "          await google.colab.kernel.invokeFunction('convertToInteractive',\n",
              "                                                    [key], {});\n",
              "        if (!dataTable) return;\n",
              "\n",
              "        const docLinkHtml = 'Like what you see? Visit the ' +\n",
              "          '<a target=\"_blank\" href=https://colab.research.google.com/notebooks/data_table.ipynb>data table notebook</a>'\n",
              "          + ' to learn more about interactive tables.';\n",
              "        element.innerHTML = '';\n",
              "        dataTable['output_type'] = 'display_data';\n",
              "        await google.colab.output.renderOutput(dataTable, element);\n",
              "        const docLink = document.createElement('div');\n",
              "        docLink.innerHTML = docLinkHtml;\n",
              "        element.appendChild(docLink);\n",
              "      }\n",
              "    </script>\n",
              "  </div>\n",
              "\n",
              "\n",
              "    </div>\n",
              "  </div>\n"
            ]
          },
          "metadata": {},
          "execution_count": 14
        }
      ]
    },
    {
      "cell_type": "code",
      "source": [
        "# verificando os tipos de solicitação ao 156\n",
        "df.TIPO.unique()"
      ],
      "metadata": {
        "colab": {
          "base_uri": "https://localhost:8080/"
        },
        "id": "plHcsIElM_m0",
        "outputId": "4d1823f8-f205-4db4-9920-c002833f23ab"
      },
      "execution_count": null,
      "outputs": [
        {
          "output_type": "execute_result",
          "data": {
            "text/plain": [
              "array(['DENÚNCIA', 'SOLICITAÇÃO', 'RECLAMAÇÃO',\n",
              "       'Abordagem realizada. A pessoa foi encaminhada para casa de passagem.',\n",
              "       'SUGESTÃO', 'INFORMAÇÃO', 'ELOGIO', 'RECADASTRO',\n",
              "       'CONSULTA PÚBLICA', 'Reclamação', 'Solicitação', 'Recadastro',\n",
              "       'Elogio', 'Sugestão', 'Denúncia', 'Consulta pública', 'Informação'],\n",
              "      dtype=object)"
            ]
          },
          "metadata": {},
          "execution_count": 15
        }
      ]
    },
    {
      "cell_type": "code",
      "source": [
        "# padronizando todas as informações de TIPO, ASSUNTO e SUBDIVISÃO\n",
        "df.TIPO = df.TIPO.str.capitalize()\n",
        "df.ASSUNTO = df.ASSUNTO.str.capitalize()\n",
        "df.SUBDIVISAO = df.SUBDIVISAO.str.capitalize()"
      ],
      "metadata": {
        "id": "acJNHb9_M_pN"
      },
      "execution_count": null,
      "outputs": []
    },
    {
      "cell_type": "code",
      "source": [
        "# retirando os valores quando a solicitação é nula\n",
        "df.dropna(subset=['SOLICITACAO'],inplace = True)"
      ],
      "metadata": {
        "id": "H35emMyNNkOW"
      },
      "execution_count": null,
      "outputs": []
    },
    {
      "cell_type": "code",
      "source": [
        "# removendo dados de 2020 e 2024\n",
        "df['ANO'] = df.DATA.dt.year\n",
        "df = df[~((df['ANO'] == 2020) | (df['ANO'] == 2024))]\n",
        "# removendo as colunas que contém valores únicos e que não tem muito sentido\n",
        "df.drop(['ANO'],axis=1,inplace=True)"
      ],
      "metadata": {
        "id": "hsWUcxMqLb8P"
      },
      "execution_count": null,
      "outputs": []
    },
    {
      "cell_type": "code",
      "source": [
        "# exportar para o BigQuery\n",
        "project_id = 'winged-will-315620'\n",
        "table_id = 'DADOS_CURITIBA.DADOS_156'\n",
        "\n",
        "# criei (erroneamente) a tabela com o campo DATA como STRING no BigQuery, por conta disso tenho que retornar para string\n",
        "df.DATA = df.DATA.dt.strftime('%Y-%m-%d')\n",
        "\n",
        "# enviando pro BQ\n",
        "df.to_gbq(table_id, project_id=project_id, if_exists = 'replace')"
      ],
      "metadata": {
        "id": "Q8J07a7NVkDB",
        "colab": {
          "base_uri": "https://localhost:8080/"
        },
        "outputId": "4f627a11-48f2-498d-f881-c322bac558f3"
      },
      "execution_count": null,
      "outputs": [
        {
          "output_type": "stream",
          "name": "stderr",
          "text": [
            "100%|██████████| 1/1 [00:00<00:00, 1341.32it/s]\n"
          ]
        }
      ]
    }
  ]
}